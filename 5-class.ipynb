{
 "cells": [
  {
   "cell_type": "code",
   "execution_count": 12,
   "metadata": {},
   "outputs": [
    {
     "name": "stdout",
     "output_type": "stream",
     "text": [
      "A-a1\n",
      "A-a2 2\n",
      "A-a1\n",
      "B-b1\n",
      "3.141592653589793\n",
      "Override method\n"
     ]
    }
   ],
   "source": [
    "import math\n",
    "\n",
    "class A():\n",
    "    def a1(self):\n",
    "        print(\"A-a1\")\n",
    "        \n",
    "    def a2(self, a):\n",
    "        print(\"A-a2\", a)\n",
    "        \n",
    "class B(A):\n",
    "    def b1(self):\n",
    "        A.a1(self)\n",
    "        print(\"B-b1\")\n",
    "        \n",
    "    def a2(self, b):\n",
    "        print(math.pi)\n",
    "        print(\"Override method\")\n",
    "        \n",
    "def main():\n",
    "    a = A()\n",
    "    a.a1()\n",
    "    a.a2(2)\n",
    "    b = B()\n",
    "    b.b1()\n",
    "    b.a2(1)\n",
    "\n",
    "if __name__ == \"__main__\":\n",
    "    main()"
   ]
  },
  {
   "cell_type": "code",
   "execution_count": null,
   "metadata": {},
   "outputs": [],
   "source": []
  },
  {
   "cell_type": "code",
   "execution_count": null,
   "metadata": {},
   "outputs": [],
   "source": []
  }
 ],
 "metadata": {
  "kernelspec": {
   "display_name": "Python 3",
   "language": "python",
   "name": "python3"
  },
  "language_info": {
   "codemirror_mode": {
    "name": "ipython",
    "version": 3
   },
   "file_extension": ".py",
   "mimetype": "text/x-python",
   "name": "python",
   "nbconvert_exporter": "python",
   "pygments_lexer": "ipython3",
   "version": "3.8.5"
  }
 },
 "nbformat": 4,
 "nbformat_minor": 4
}
